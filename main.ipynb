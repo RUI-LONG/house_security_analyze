{
 "cells": [
  {
   "cell_type": "code",
   "execution_count": 1,
   "metadata": {},
   "outputs": [],
   "source": [
    "import numpy as np\n",
    "import pandas as pd\n",
    "pd.options.mode.chained_assignment = None\n",
    "# import data\n",
    "residential_data_path = './data/10401_10811_residential_burglary.csv'\n",
    "residential_data = pd.read_csv(residential_data_path, engine='python')"
   ]
  },
  {
   "cell_type": "code",
   "execution_count": 2,
   "metadata": {},
   "outputs": [
    {
     "data": {
      "text/html": [
       "<div>\n",
       "<style scoped>\n",
       "    .dataframe tbody tr th:only-of-type {\n",
       "        vertical-align: middle;\n",
       "    }\n",
       "\n",
       "    .dataframe tbody tr th {\n",
       "        vertical-align: top;\n",
       "    }\n",
       "\n",
       "    .dataframe thead th {\n",
       "        text-align: right;\n",
       "    }\n",
       "</style>\n",
       "<table border=\"1\" class=\"dataframe\">\n",
       "  <thead>\n",
       "    <tr style=\"text-align: right;\">\n",
       "      <th></th>\n",
       "      <th>編號</th>\n",
       "      <th>案類</th>\n",
       "      <th>發生(現)日期</th>\n",
       "      <th>發生時段</th>\n",
       "      <th>發生(現)地點</th>\n",
       "    </tr>\n",
       "  </thead>\n",
       "  <tbody>\n",
       "    <tr>\n",
       "      <td>0</td>\n",
       "      <td>1</td>\n",
       "      <td>住宅竊盜</td>\n",
       "      <td>1040101</td>\n",
       "      <td>00~02</td>\n",
       "      <td>台北市文山區萬美里萬寧街1~30號</td>\n",
       "    </tr>\n",
       "    <tr>\n",
       "      <td>1</td>\n",
       "      <td>2</td>\n",
       "      <td>住宅竊盜</td>\n",
       "      <td>1040101</td>\n",
       "      <td>00~02</td>\n",
       "      <td>台北市信義區富台里忠孝東路5段295巷6弄1~30號</td>\n",
       "    </tr>\n",
       "    <tr>\n",
       "      <td>2</td>\n",
       "      <td>3</td>\n",
       "      <td>住宅竊盜</td>\n",
       "      <td>1040101</td>\n",
       "      <td>06~08</td>\n",
       "      <td>台北市中山區新生北路1段91~120號</td>\n",
       "    </tr>\n",
       "    <tr>\n",
       "      <td>3</td>\n",
       "      <td>4</td>\n",
       "      <td>住宅竊盜</td>\n",
       "      <td>1040101</td>\n",
       "      <td>10~12</td>\n",
       "      <td>台北市文山區明興里興隆路4段1~30號</td>\n",
       "    </tr>\n",
       "    <tr>\n",
       "      <td>4</td>\n",
       "      <td>5</td>\n",
       "      <td>住宅竊盜</td>\n",
       "      <td>1040101</td>\n",
       "      <td>12~14</td>\n",
       "      <td>台北縣新莊市思源路332巷1~30號</td>\n",
       "    </tr>\n",
       "  </tbody>\n",
       "</table>\n",
       "</div>"
      ],
      "text/plain": [
       "   編號    案類  發生(現)日期   發生時段                     發生(現)地點\n",
       "0   1  住宅竊盜  1040101  00~02           台北市文山區萬美里萬寧街1~30號\n",
       "1   2  住宅竊盜  1040101  00~02  台北市信義區富台里忠孝東路5段295巷6弄1~30號\n",
       "2   3  住宅竊盜  1040101  06~08         台北市中山區新生北路1段91~120號\n",
       "3   4  住宅竊盜  1040101  10~12         台北市文山區明興里興隆路4段1~30號\n",
       "4   5  住宅竊盜  1040101  12~14          台北縣新莊市思源路332巷1~30號"
      ]
     },
     "execution_count": 2,
     "metadata": {},
     "output_type": "execute_result"
    }
   ],
   "source": [
    "residential_data.head()"
   ]
  },
  {
   "cell_type": "code",
   "execution_count": 3,
   "metadata": {},
   "outputs": [
    {
     "data": {
      "text/plain": [
       "0                 台北市文山區萬美里萬寧街1~30號\n",
       "1        台北市信義區富台里忠孝東路5段295巷6弄1~30號\n",
       "2               台北市中山區新生北路1段91~120號\n",
       "3               台北市文山區明興里興隆路4段1~30號\n",
       "4                台北縣新莊市思源路332巷1~30號\n",
       "                   ...             \n",
       "3020          台北市信義區中興里光復南路541~570號\n",
       "3021    台北市文山區華興里020鄰木柵路1段238巷1~30號\n",
       "3022              台北市中山區樂群二路91~120號\n",
       "3023      台北市文山區萬興里028鄰新光路1段91~120號\n",
       "3024      台北市大安區昌隆里忠孝東路3段217巷2弄4-6號\n",
       "Name: location, Length: 3025, dtype: object"
      ]
     },
     "execution_count": 3,
     "metadata": {},
     "output_type": "execute_result"
    }
   ],
   "source": [
    "residential_data = residential_data.rename(columns={'編號': 'No', '發生(現)日期': 'date', '案類': 'type',\\\n",
    "                                                    '發生時段': 'time', '發生(現)地點': 'location'})\n",
    "residential_data['location']"
   ]
  },
  {
   "cell_type": "code",
   "execution_count": 4,
   "metadata": {},
   "outputs": [
    {
     "data": {
      "text/html": [
       "<div>\n",
       "<style scoped>\n",
       "    .dataframe tbody tr th:only-of-type {\n",
       "        vertical-align: middle;\n",
       "    }\n",
       "\n",
       "    .dataframe tbody tr th {\n",
       "        vertical-align: top;\n",
       "    }\n",
       "\n",
       "    .dataframe thead th {\n",
       "        text-align: right;\n",
       "    }\n",
       "</style>\n",
       "<table border=\"1\" class=\"dataframe\">\n",
       "  <thead>\n",
       "    <tr style=\"text-align: right;\">\n",
       "      <th></th>\n",
       "      <th>No</th>\n",
       "      <th>type</th>\n",
       "      <th>date</th>\n",
       "      <th>time</th>\n",
       "      <th>location</th>\n",
       "      <th>city</th>\n",
       "      <th>area</th>\n",
       "    </tr>\n",
       "  </thead>\n",
       "  <tbody>\n",
       "    <tr>\n",
       "      <td>0</td>\n",
       "      <td>1</td>\n",
       "      <td>住宅竊盜</td>\n",
       "      <td>1040101</td>\n",
       "      <td>00~02</td>\n",
       "      <td>台北市文山區萬美里萬寧街1~30號</td>\n",
       "      <td>台北市</td>\n",
       "      <td>文山區</td>\n",
       "    </tr>\n",
       "    <tr>\n",
       "      <td>1</td>\n",
       "      <td>2</td>\n",
       "      <td>住宅竊盜</td>\n",
       "      <td>1040101</td>\n",
       "      <td>00~02</td>\n",
       "      <td>台北市信義區富台里忠孝東路5段295巷6弄1~30號</td>\n",
       "      <td>台北市</td>\n",
       "      <td>信義區</td>\n",
       "    </tr>\n",
       "    <tr>\n",
       "      <td>2</td>\n",
       "      <td>3</td>\n",
       "      <td>住宅竊盜</td>\n",
       "      <td>1040101</td>\n",
       "      <td>06~08</td>\n",
       "      <td>台北市中山區新生北路1段91~120號</td>\n",
       "      <td>台北市</td>\n",
       "      <td>中山區</td>\n",
       "    </tr>\n",
       "    <tr>\n",
       "      <td>3</td>\n",
       "      <td>4</td>\n",
       "      <td>住宅竊盜</td>\n",
       "      <td>1040101</td>\n",
       "      <td>10~12</td>\n",
       "      <td>台北市文山區明興里興隆路4段1~30號</td>\n",
       "      <td>台北市</td>\n",
       "      <td>文山區</td>\n",
       "    </tr>\n",
       "    <tr>\n",
       "      <td>4</td>\n",
       "      <td>5</td>\n",
       "      <td>住宅竊盜</td>\n",
       "      <td>1040101</td>\n",
       "      <td>12~14</td>\n",
       "      <td>台北縣新莊市思源路332巷1~30號</td>\n",
       "      <td>台北縣</td>\n",
       "      <td>新莊市</td>\n",
       "    </tr>\n",
       "  </tbody>\n",
       "</table>\n",
       "</div>"
      ],
      "text/plain": [
       "   No  type     date   time                    location city area\n",
       "0   1  住宅竊盜  1040101  00~02           台北市文山區萬美里萬寧街1~30號  台北市  文山區\n",
       "1   2  住宅竊盜  1040101  00~02  台北市信義區富台里忠孝東路5段295巷6弄1~30號  台北市  信義區\n",
       "2   3  住宅竊盜  1040101  06~08         台北市中山區新生北路1段91~120號  台北市  中山區\n",
       "3   4  住宅竊盜  1040101  10~12         台北市文山區明興里興隆路4段1~30號  台北市  文山區\n",
       "4   5  住宅竊盜  1040101  12~14          台北縣新莊市思源路332巷1~30號  台北縣  新莊市"
      ]
     },
     "execution_count": 4,
     "metadata": {},
     "output_type": "execute_result"
    }
   ],
   "source": [
    "residential_data['city'] = residential_data.location.str[:3]\n",
    "residential_data['area'] = residential_data.location.str[3:6]\n",
    "residential_data.head()"
   ]
  },
  {
   "cell_type": "code",
   "execution_count": 5,
   "metadata": {},
   "outputs": [
    {
     "data": {
      "text/plain": [
       "array(['三民一', '中元路', '中興路', '仁孝路', '六路里', '南投縣', '南斗路', '台中市', '台北市',\n",
       "       '台北縣', '嘉義縣', '基隆市', '宜蘭縣', '屏東縣', '建國路', '彰化縣', '新竹市', '新竹縣',\n",
       "       '東山路', '桃園縣', '澎湖縣', '自立路', '苗栗縣', '雲林縣', '高雄市', '龍肚路'],\n",
       "      dtype=object)"
      ]
     },
     "execution_count": 5,
     "metadata": {},
     "output_type": "execute_result"
    }
   ],
   "source": [
    "# Check all kinds of city \n",
    "np.unique([residential_data.city])"
   ]
  },
  {
   "cell_type": "code",
   "execution_count": 6,
   "metadata": {},
   "outputs": [
    {
     "data": {
      "text/html": [
       "<div>\n",
       "<style scoped>\n",
       "    .dataframe tbody tr th:only-of-type {\n",
       "        vertical-align: middle;\n",
       "    }\n",
       "\n",
       "    .dataframe tbody tr th {\n",
       "        vertical-align: top;\n",
       "    }\n",
       "\n",
       "    .dataframe thead th {\n",
       "        text-align: right;\n",
       "    }\n",
       "</style>\n",
       "<table border=\"1\" class=\"dataframe\">\n",
       "  <thead>\n",
       "    <tr style=\"text-align: right;\">\n",
       "      <th></th>\n",
       "      <th>No</th>\n",
       "      <th>type</th>\n",
       "      <th>date</th>\n",
       "      <th>time</th>\n",
       "      <th>location</th>\n",
       "      <th>city</th>\n",
       "      <th>area</th>\n",
       "    </tr>\n",
       "  </thead>\n",
       "  <tbody>\n",
       "    <tr>\n",
       "      <td>0</td>\n",
       "      <td>1</td>\n",
       "      <td>住宅竊盜</td>\n",
       "      <td>1040101</td>\n",
       "      <td>00~02</td>\n",
       "      <td>台北市文山區萬美里萬寧街1~30號</td>\n",
       "      <td>台北市</td>\n",
       "      <td>文山區</td>\n",
       "    </tr>\n",
       "    <tr>\n",
       "      <td>1</td>\n",
       "      <td>2</td>\n",
       "      <td>住宅竊盜</td>\n",
       "      <td>1040101</td>\n",
       "      <td>00~02</td>\n",
       "      <td>台北市信義區富台里忠孝東路5段295巷6弄1~30號</td>\n",
       "      <td>台北市</td>\n",
       "      <td>信義區</td>\n",
       "    </tr>\n",
       "    <tr>\n",
       "      <td>2</td>\n",
       "      <td>3</td>\n",
       "      <td>住宅竊盜</td>\n",
       "      <td>1040101</td>\n",
       "      <td>06~08</td>\n",
       "      <td>台北市中山區新生北路1段91~120號</td>\n",
       "      <td>台北市</td>\n",
       "      <td>中山區</td>\n",
       "    </tr>\n",
       "    <tr>\n",
       "      <td>3</td>\n",
       "      <td>4</td>\n",
       "      <td>住宅竊盜</td>\n",
       "      <td>1040101</td>\n",
       "      <td>10~12</td>\n",
       "      <td>台北市文山區明興里興隆路4段1~30號</td>\n",
       "      <td>台北市</td>\n",
       "      <td>文山區</td>\n",
       "    </tr>\n",
       "    <tr>\n",
       "      <td>5</td>\n",
       "      <td>6</td>\n",
       "      <td>住宅竊盜</td>\n",
       "      <td>1040102</td>\n",
       "      <td>00~02</td>\n",
       "      <td>台北市士林區天福里1鄰忠誠路2段130巷1~30號</td>\n",
       "      <td>台北市</td>\n",
       "      <td>士林區</td>\n",
       "    </tr>\n",
       "  </tbody>\n",
       "</table>\n",
       "</div>"
      ],
      "text/plain": [
       "   No  type     date   time                    location city area\n",
       "0   1  住宅竊盜  1040101  00~02           台北市文山區萬美里萬寧街1~30號  台北市  文山區\n",
       "1   2  住宅竊盜  1040101  00~02  台北市信義區富台里忠孝東路5段295巷6弄1~30號  台北市  信義區\n",
       "2   3  住宅竊盜  1040101  06~08         台北市中山區新生北路1段91~120號  台北市  中山區\n",
       "3   4  住宅竊盜  1040101  10~12         台北市文山區明興里興隆路4段1~30號  台北市  文山區\n",
       "5   6  住宅竊盜  1040102  00~02   台北市士林區天福里1鄰忠誠路2段130巷1~30號  台北市  士林區"
      ]
     },
     "execution_count": 6,
     "metadata": {},
     "output_type": "execute_result"
    }
   ],
   "source": [
    "# 去除台北市以外的\n",
    "filtered_data = residential_data[(residential_data.city == '台北市')]\n",
    "filtered_data.head()"
   ]
  },
  {
   "cell_type": "code",
   "execution_count": 7,
   "metadata": {},
   "outputs": [
    {
     "name": "stdout",
     "output_type": "stream",
     "text": [
      "['台北市']\n",
      "共有 2763 筆\n"
     ]
    }
   ],
   "source": [
    "# 檢查是否有遺漏\n",
    "print(np.unique([filtered_data.city]))\n",
    "print(\"共有\", len(filtered_data), \"筆\")\n"
   ]
  },
  {
   "cell_type": "code",
   "execution_count": 8,
   "metadata": {},
   "outputs": [],
   "source": [
    "# # 地址轉換成經緯度\n",
    "# import time\n",
    "# from selenium import webdriver\n",
    "# from selenium.webdriver.common.keys import Keys\n",
    "\n",
    "# for loc in filtered_data.location:\n",
    "#     url = 'https://tools.wingzero.tw/archive/get-geometry/tw'\n",
    "#     driver = webdriver.Chrome('./crawler_drive/chromedriver')\n",
    "#     driver.get(url)\n",
    "\n",
    "#     input_form = driver.find_element_by_id(\"address\")\n",
    "#     input_form.send_keys(loc)\n",
    "#     btn = driver.find_element_by_id(\"getGeo\").click()\n",
    "#     time.sleep(0.5)\n",
    "#     lng = driver.find_element_by_id(\"lng\").get_attribute('value')\n",
    "#     lat = driver.find_element_by_id(\"lat\").get_attribute('value')\n",
    "\n",
    "#     print(loc, lng, lat)\n",
    "#     driver.close()\n"
   ]
  },
  {
   "cell_type": "code",
   "execution_count": 9,
   "metadata": {},
   "outputs": [
    {
     "data": {
      "text/html": [
       "<div>\n",
       "<style scoped>\n",
       "    .dataframe tbody tr th:only-of-type {\n",
       "        vertical-align: middle;\n",
       "    }\n",
       "\n",
       "    .dataframe tbody tr th {\n",
       "        vertical-align: top;\n",
       "    }\n",
       "\n",
       "    .dataframe thead th {\n",
       "        text-align: right;\n",
       "    }\n",
       "</style>\n",
       "<table border=\"1\" class=\"dataframe\">\n",
       "  <thead>\n",
       "    <tr style=\"text-align: right;\">\n",
       "      <th></th>\n",
       "      <th>TOWNID</th>\n",
       "      <th>TOWNCODE</th>\n",
       "      <th>COUNTYNAME</th>\n",
       "      <th>TOWNNAME</th>\n",
       "      <th>TOWNENG</th>\n",
       "      <th>COUNTYID</th>\n",
       "      <th>COUNTYCODE</th>\n",
       "      <th>geometry</th>\n",
       "    </tr>\n",
       "  </thead>\n",
       "  <tbody>\n",
       "    <tr>\n",
       "      <td>0</td>\n",
       "      <td>V02</td>\n",
       "      <td>10014020</td>\n",
       "      <td>臺東縣</td>\n",
       "      <td>成功鎮</td>\n",
       "      <td>Chenggong Township</td>\n",
       "      <td>V</td>\n",
       "      <td>10014</td>\n",
       "      <td>POLYGON ((121.40982 23.21369, 121.40984 23.213...</td>\n",
       "    </tr>\n",
       "    <tr>\n",
       "      <td>1</td>\n",
       "      <td>T21</td>\n",
       "      <td>10013210</td>\n",
       "      <td>屏東縣</td>\n",
       "      <td>佳冬鄉</td>\n",
       "      <td>Jiadong Township</td>\n",
       "      <td>T</td>\n",
       "      <td>10013</td>\n",
       "      <td>POLYGON ((120.54846 22.46067, 120.54853 22.460...</td>\n",
       "    </tr>\n",
       "    <tr>\n",
       "      <td>2</td>\n",
       "      <td>P13</td>\n",
       "      <td>10009130</td>\n",
       "      <td>雲林縣</td>\n",
       "      <td>麥寮鄉</td>\n",
       "      <td>Mailiao Township</td>\n",
       "      <td>P</td>\n",
       "      <td>10009</td>\n",
       "      <td>POLYGON ((120.30198 23.81625, 120.30197 23.815...</td>\n",
       "    </tr>\n",
       "    <tr>\n",
       "      <td>3</td>\n",
       "      <td>V11</td>\n",
       "      <td>10014110</td>\n",
       "      <td>臺東縣</td>\n",
       "      <td>綠島鄉</td>\n",
       "      <td>Ludao Township</td>\n",
       "      <td>V</td>\n",
       "      <td>10014</td>\n",
       "      <td>MULTIPOLYGON (((121.49155 22.67746, 121.49185 ...</td>\n",
       "    </tr>\n",
       "    <tr>\n",
       "      <td>4</td>\n",
       "      <td>V16</td>\n",
       "      <td>10014160</td>\n",
       "      <td>臺東縣</td>\n",
       "      <td>蘭嶼鄉</td>\n",
       "      <td>Lanyu Township</td>\n",
       "      <td>V</td>\n",
       "      <td>10014</td>\n",
       "      <td>MULTIPOLYGON (((121.61180 21.94290, 121.61133 ...</td>\n",
       "    </tr>\n",
       "  </tbody>\n",
       "</table>\n",
       "</div>"
      ],
      "text/plain": [
       "  TOWNID  TOWNCODE COUNTYNAME TOWNNAME             TOWNENG COUNTYID  \\\n",
       "0    V02  10014020        臺東縣      成功鎮  Chenggong Township        V   \n",
       "1    T21  10013210        屏東縣      佳冬鄉    Jiadong Township        T   \n",
       "2    P13  10009130        雲林縣      麥寮鄉    Mailiao Township        P   \n",
       "3    V11  10014110        臺東縣      綠島鄉      Ludao Township        V   \n",
       "4    V16  10014160        臺東縣      蘭嶼鄉      Lanyu Township        V   \n",
       "\n",
       "  COUNTYCODE                                           geometry  \n",
       "0      10014  POLYGON ((121.40982 23.21369, 121.40984 23.213...  \n",
       "1      10013  POLYGON ((120.54846 22.46067, 120.54853 22.460...  \n",
       "2      10009  POLYGON ((120.30198 23.81625, 120.30197 23.815...  \n",
       "3      10014  MULTIPOLYGON (((121.49155 22.67746, 121.49185 ...  \n",
       "4      10014  MULTIPOLYGON (((121.61180 21.94290, 121.61133 ...  "
      ]
     },
     "execution_count": 9,
     "metadata": {},
     "output_type": "execute_result"
    }
   ],
   "source": [
    "from pylab import *\n",
    "import pandas as pd\n",
    "\n",
    "import geopandas as gpd\n",
    "from matplotlib import pylab\n",
    "from shapely.geometry import Point\n",
    "\n",
    "pylab.rcParams['figure.figsize'] = (30.0, 30.0)\n",
    "\n",
    "town_shp = gpd.read_file('./mapdata/TOWN_MOI_1081121.shp', encoding='utf8')\n",
    "town_shp.head()"
   ]
  },
  {
   "cell_type": "code",
   "execution_count": 10,
   "metadata": {},
   "outputs": [
    {
     "data": {
      "text/plain": [
       "<matplotlib.axes._subplots.AxesSubplot at 0x238a4c14048>"
      ]
     },
     "execution_count": 10,
     "metadata": {},
     "output_type": "execute_result"
    },
    {
     "data": {
      "image/png": "[encoded data removed]",
      "text/plain": [
       "<Figure size 432x288 with 1 Axes>"
      ]
     },
     "metadata": {
      "needs_background": "light"
     },
     "output_type": "display_data"
    }
   ],
   "source": [
    "town_shp.plot(cmap='RdBu')"
   ]
  },
  {
   "cell_type": "code",
   "execution_count": 11,
   "metadata": {},
   "outputs": [
    {
     "data": {
      "text/plain": [
       "<matplotlib.axes._subplots.AxesSubplot at 0x238a5f26e08>"
      ]
     },
     "execution_count": 11,
     "metadata": {},
     "output_type": "execute_result"
    },
    {
     "data": {
      "image/png": "[encoded data removed]",
      "text/plain": [
       "<Figure size 432x288 with 1 Axes>"
      ]
     },
     "metadata": {
      "needs_background": "light"
     },
     "output_type": "display_data"
    }
   ],
   "source": [
    "Taipei_shp = town_shp[town_shp['COUNTYNAME']=='臺北市']\n",
    "land_value = [76.99, 45.61, 62.47, 44.74, 67.41, 53.05, 65.56, 50.61, 56.31, 52.31, 52.44, 42.71]\n",
    "np.array(land_value)\n",
    "Taipei_shp['land_value'] = np.array(land_value)\n",
    "Taipei_shp.plot(cmap=plt.cm.Blues, column='land_value')"
   ]
  },
  {
   "cell_type": "code",
   "execution_count": 12,
   "metadata": {},
   "outputs": [
    {
     "data": {
      "text/html": [
       "<div>\n",
       "<style scoped>\n",
       "    .dataframe tbody tr th:only-of-type {\n",
       "        vertical-align: middle;\n",
       "    }\n",
       "\n",
       "    .dataframe tbody tr th {\n",
       "        vertical-align: top;\n",
       "    }\n",
       "\n",
       "    .dataframe thead th {\n",
       "        text-align: right;\n",
       "    }\n",
       "</style>\n",
       "<table border=\"1\" class=\"dataframe\">\n",
       "  <thead>\n",
       "    <tr style=\"text-align: right;\">\n",
       "      <th></th>\n",
       "      <th>地址</th>\n",
       "      <th>經度</th>\n",
       "      <th>緯度</th>\n",
       "      <th>Coordinates</th>\n",
       "    </tr>\n",
       "  </thead>\n",
       "  <tbody>\n",
       "    <tr>\n",
       "      <td>0</td>\n",
       "      <td>台北市文山區萬美里萬寧街1~30號</td>\n",
       "      <td>121.570149</td>\n",
       "      <td>25.004236</td>\n",
       "      <td>POINT (121.57015 25.00424)</td>\n",
       "    </tr>\n",
       "    <tr>\n",
       "      <td>2</td>\n",
       "      <td>台北市信義區富台里忠孝東路5段295巷6弄1~30號</td>\n",
       "      <td>121.572558</td>\n",
       "      <td>25.042038</td>\n",
       "      <td>POINT (121.57256 25.04204)</td>\n",
       "    </tr>\n",
       "    <tr>\n",
       "      <td>4</td>\n",
       "      <td>台北市中山區新生北路1段91~120號</td>\n",
       "      <td>121.532398</td>\n",
       "      <td>25.046331</td>\n",
       "      <td>POINT (121.53240 25.04633)</td>\n",
       "    </tr>\n",
       "    <tr>\n",
       "      <td>6</td>\n",
       "      <td>台北市文山區明興里興隆路4段1~30號</td>\n",
       "      <td>121.560075</td>\n",
       "      <td>24.989318</td>\n",
       "      <td>POINT (121.56007 24.98932)</td>\n",
       "    </tr>\n",
       "    <tr>\n",
       "      <td>8</td>\n",
       "      <td>台北市士林區天福里1鄰忠誠路2段130巷1~30號</td>\n",
       "      <td>121.531861</td>\n",
       "      <td>25.114088</td>\n",
       "      <td>POINT (121.53186 25.11409)</td>\n",
       "    </tr>\n",
       "    <tr>\n",
       "      <td>...</td>\n",
       "      <td>...</td>\n",
       "      <td>...</td>\n",
       "      <td>...</td>\n",
       "      <td>...</td>\n",
       "    </tr>\n",
       "    <tr>\n",
       "      <td>526</td>\n",
       "      <td>台北市中山區中山北路1段91~120號</td>\n",
       "      <td>121.522992</td>\n",
       "      <td>25.056177</td>\n",
       "      <td>POINT (121.52299 25.05618)</td>\n",
       "    </tr>\n",
       "    <tr>\n",
       "      <td>528</td>\n",
       "      <td>台北市萬華區萬大路322巷55弄1~30號</td>\n",
       "      <td>121.498422</td>\n",
       "      <td>25.024499</td>\n",
       "      <td>POINT (121.49842 25.02450)</td>\n",
       "    </tr>\n",
       "    <tr>\n",
       "      <td>530</td>\n",
       "      <td>台北市北投區開明里珠海路107巷1~30號</td>\n",
       "      <td>121.504817</td>\n",
       "      <td>25.141253</td>\n",
       "      <td>POINT (121.50482 25.14125)</td>\n",
       "    </tr>\n",
       "    <tr>\n",
       "      <td>532</td>\n",
       "      <td>台北市中正區文祥里金山南路一段91~120號</td>\n",
       "      <td>121.528076</td>\n",
       "      <td>25.036704</td>\n",
       "      <td>POINT (121.52808 25.03670)</td>\n",
       "    </tr>\n",
       "    <tr>\n",
       "      <td>534</td>\n",
       "      <td>台北市松山區延壽街61~90號</td>\n",
       "      <td>121.567653</td>\n",
       "      <td>25.057209</td>\n",
       "      <td>POINT (121.56765 25.05721)</td>\n",
       "    </tr>\n",
       "  </tbody>\n",
       "</table>\n",
       "<p>265 rows × 4 columns</p>\n",
       "</div>"
      ],
      "text/plain": [
       "                             地址          經度         緯度  \\\n",
       "0             台北市文山區萬美里萬寧街1~30號  121.570149  25.004236   \n",
       "2    台北市信義區富台里忠孝東路5段295巷6弄1~30號  121.572558  25.042038   \n",
       "4           台北市中山區新生北路1段91~120號  121.532398  25.046331   \n",
       "6           台北市文山區明興里興隆路4段1~30號  121.560075  24.989318   \n",
       "8     台北市士林區天福里1鄰忠誠路2段130巷1~30號  121.531861  25.114088   \n",
       "..                          ...         ...        ...   \n",
       "526         台北市中山區中山北路1段91~120號  121.522992  25.056177   \n",
       "528       台北市萬華區萬大路322巷55弄1~30號  121.498422  25.024499   \n",
       "530       台北市北投區開明里珠海路107巷1~30號  121.504817  25.141253   \n",
       "532      台北市中正區文祥里金山南路一段91~120號  121.528076  25.036704   \n",
       "534             台北市松山區延壽街61~90號  121.567653  25.057209   \n",
       "\n",
       "                    Coordinates  \n",
       "0    POINT (121.57015 25.00424)  \n",
       "2    POINT (121.57256 25.04204)  \n",
       "4    POINT (121.53240 25.04633)  \n",
       "6    POINT (121.56007 24.98932)  \n",
       "8    POINT (121.53186 25.11409)  \n",
       "..                          ...  \n",
       "526  POINT (121.52299 25.05618)  \n",
       "528  POINT (121.49842 25.02450)  \n",
       "530  POINT (121.50482 25.14125)  \n",
       "532  POINT (121.52808 25.03670)  \n",
       "534  POINT (121.56765 25.05721)  \n",
       "\n",
       "[265 rows x 4 columns]"
      ]
     },
     "execution_count": 12,
     "metadata": {},
     "output_type": "execute_result"
    }
   ],
   "source": [
    "res_data = pd.read_csv('./data/new_residential_burglary3.csv', encoding='big5')\n",
    "res_data[\"Coordinates\"] = list(zip(res_data.經度, res_data.緯度))\n",
    "res_data[\"Coordinates\"] = res_data[\"Coordinates\"].apply(Point)\n",
    "res_data = res_data.dropna()\n",
    "gdf = gpd.GeoDataFrame(res_data, geometry=\"Coordinates\")\n",
    "# gdf\n",
    "res_data"
   ]
  },
  {
   "cell_type": "code",
   "execution_count": 13,
   "metadata": {},
   "outputs": [],
   "source": [
    "import json\n",
    "from bokeh.io import show\n",
    "from bokeh.models import (CDSView, ColorBar, ColumnDataSource,\n",
    "                          CustomJS, CustomJSFilter, \n",
    "                          GeoJSONDataSource, HoverTool,\n",
    "                          LinearColorMapper, Slider)\n",
    "from bokeh.layouts import column, row, widgetbox\n",
    "from bokeh.palettes import brewer\n",
    "from bokeh.plotting import figure\n",
    "# Input GeoJSON source that contains features for plotting\n",
    "geosource = GeoJSONDataSource(geojson = Taipei_shp.to_json())"
   ]
  },
  {
   "cell_type": "code",
   "execution_count": 14,
   "metadata": {},
   "outputs": [],
   "source": [
    "##!!##\n",
    "p = figure(title = '臺北市地價著色地圖, 2019', \n",
    "           \n",
    "           toolbar_location = 'below',\n",
    "           tools = \"pan, wheel_zoom, box_zoom, reset\")\n",
    "p.xgrid.grid_line_color = None\n",
    "p.ygrid.grid_line_color = None\n",
    "palette = brewer['Blues'][8]\n",
    "color_mapper = LinearColorMapper(palette = palette, low = 80, high = 40)\n",
    "# Add patch renderer to figure.\n",
    "city_source = p.patches('xs','ys', source = geosource,\n",
    "                   fill_color = {'field' :'land_value',\n",
    "                                'transform' : color_mapper},\n",
    "                   line_color = 'gray', \n",
    "                   line_width = 0.25, \n",
    "                   fill_alpha = 1)\n",
    "\n",
    "\n",
    "p.circle(res_data[\"經度\"], res_data[\"緯度\"], \n",
    "         fill_color = { 'transform' : color_mapper})\n",
    "\n",
    "# Create hover tool\n",
    "p.add_tools(HoverTool(renderers = [city_source],\n",
    "                      tooltips = [('City','@TOWNNAME'),\n",
    "                                ('地價','@land_value')]))\n",
    "show(p)"
   ]
  },
  {
   "cell_type": "code",
   "execution_count": null,
   "metadata": {},
   "outputs": [],
   "source": []
  },
  {
   "cell_type": "code",
   "execution_count": null,
   "metadata": {},
   "outputs": [],
   "source": []
  },
  {
   "cell_type": "code",
   "execution_count": null,
   "metadata": {},
   "outputs": [],
   "source": []
  },
  {
   "cell_type": "code",
   "execution_count": null,
   "metadata": {},
   "outputs": [],
   "source": []
  }
 ],
 "metadata": {
  "kernelspec": {
   "display_name": "Python 3",
   "language": "python",
   "name": "python3"
  },
  "language_info": {
   "codemirror_mode": {
    "name": "ipython",
    "version": 3
   },
   "file_extension": ".py",
   "mimetype": "text/x-python",
   "name": "python",
   "nbconvert_exporter": "python",
   "pygments_lexer": "ipython3",
   "version": "3.7.4"
  }
 },
 "nbformat": 4,
 "nbformat_minor": 2
}
