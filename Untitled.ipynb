{
 "cells": [
  {
   "cell_type": "code",
   "execution_count": 1,
   "metadata": {},
   "outputs": [],
   "source": [
    "import numpy as np\n",
    "import pandas as pd\n",
    "\n",
    "# import data\n",
    "residential_data_path = './data/10401_10811_residential_burglary.csv'\n",
    "residential_data = pd.read_csv(residential_data_path, engine='python')"
   ]
  },
  {
   "cell_type": "code",
   "execution_count": 2,
   "metadata": {},
   "outputs": [
    {
     "data": {
      "text/html": [
       "<div>\n",
       "<style scoped>\n",
       "    .dataframe tbody tr th:only-of-type {\n",
       "        vertical-align: middle;\n",
       "    }\n",
       "\n",
       "    .dataframe tbody tr th {\n",
       "        vertical-align: top;\n",
       "    }\n",
       "\n",
       "    .dataframe thead th {\n",
       "        text-align: right;\n",
       "    }\n",
       "</style>\n",
       "<table border=\"1\" class=\"dataframe\">\n",
       "  <thead>\n",
       "    <tr style=\"text-align: right;\">\n",
       "      <th></th>\n",
       "      <th>編號</th>\n",
       "      <th>案類</th>\n",
       "      <th>發生(現)日期</th>\n",
       "      <th>發生時段</th>\n",
       "      <th>發生(現)地點</th>\n",
       "    </tr>\n",
       "  </thead>\n",
       "  <tbody>\n",
       "    <tr>\n",
       "      <td>0</td>\n",
       "      <td>1</td>\n",
       "      <td>住宅竊盜</td>\n",
       "      <td>1040101</td>\n",
       "      <td>00~02</td>\n",
       "      <td>台北市文山區萬美里萬寧街1~30號</td>\n",
       "    </tr>\n",
       "    <tr>\n",
       "      <td>1</td>\n",
       "      <td>2</td>\n",
       "      <td>住宅竊盜</td>\n",
       "      <td>1040101</td>\n",
       "      <td>00~02</td>\n",
       "      <td>台北市信義區富台里忠孝東路5段295巷6弄1~30號</td>\n",
       "    </tr>\n",
       "    <tr>\n",
       "      <td>2</td>\n",
       "      <td>3</td>\n",
       "      <td>住宅竊盜</td>\n",
       "      <td>1040101</td>\n",
       "      <td>06~08</td>\n",
       "      <td>台北市中山區新生北路1段91~120號</td>\n",
       "    </tr>\n",
       "    <tr>\n",
       "      <td>3</td>\n",
       "      <td>4</td>\n",
       "      <td>住宅竊盜</td>\n",
       "      <td>1040101</td>\n",
       "      <td>10~12</td>\n",
       "      <td>台北市文山區明興里興隆路4段1~30號</td>\n",
       "    </tr>\n",
       "    <tr>\n",
       "      <td>4</td>\n",
       "      <td>5</td>\n",
       "      <td>住宅竊盜</td>\n",
       "      <td>1040101</td>\n",
       "      <td>12~14</td>\n",
       "      <td>台北縣新莊市思源路332巷1~30號</td>\n",
       "    </tr>\n",
       "  </tbody>\n",
       "</table>\n",
       "</div>"
      ],
      "text/plain": [
       "   編號    案類  發生(現)日期   發生時段                     發生(現)地點\n",
       "0   1  住宅竊盜  1040101  00~02           台北市文山區萬美里萬寧街1~30號\n",
       "1   2  住宅竊盜  1040101  00~02  台北市信義區富台里忠孝東路5段295巷6弄1~30號\n",
       "2   3  住宅竊盜  1040101  06~08         台北市中山區新生北路1段91~120號\n",
       "3   4  住宅竊盜  1040101  10~12         台北市文山區明興里興隆路4段1~30號\n",
       "4   5  住宅竊盜  1040101  12~14          台北縣新莊市思源路332巷1~30號"
      ]
     },
     "execution_count": 2,
     "metadata": {},
     "output_type": "execute_result"
    }
   ],
   "source": [
    "residential_data.head()"
   ]
  },
  {
   "cell_type": "code",
   "execution_count": 3,
   "metadata": {},
   "outputs": [
    {
     "data": {
      "text/plain": [
       "0                 台北市文山區萬美里萬寧街1~30號\n",
       "1        台北市信義區富台里忠孝東路5段295巷6弄1~30號\n",
       "2               台北市中山區新生北路1段91~120號\n",
       "3               台北市文山區明興里興隆路4段1~30號\n",
       "4                台北縣新莊市思源路332巷1~30號\n",
       "                   ...             \n",
       "3020          台北市信義區中興里光復南路541~570號\n",
       "3021    台北市文山區華興里020鄰木柵路1段238巷1~30號\n",
       "3022              台北市中山區樂群二路91~120號\n",
       "3023      台北市文山區萬興里028鄰新光路1段91~120號\n",
       "3024      台北市大安區昌隆里忠孝東路3段217巷2弄4-6號\n",
       "Name: location, Length: 3025, dtype: object"
      ]
     },
     "execution_count": 3,
     "metadata": {},
     "output_type": "execute_result"
    }
   ],
   "source": [
    "residential_data = residential_data.rename(columns={'編號': 'No', '發生(現)日期': 'date', '案類': 'type',\\\n",
    "                                                    '發生時段': 'time', '發生(現)地點': 'location'})\n",
    "residential_data['location']"
   ]
  },
  {
   "cell_type": "code",
   "execution_count": 4,
   "metadata": {},
   "outputs": [
    {
     "data": {
      "text/html": [
       "<div>\n",
       "<style scoped>\n",
       "    .dataframe tbody tr th:only-of-type {\n",
       "        vertical-align: middle;\n",
       "    }\n",
       "\n",
       "    .dataframe tbody tr th {\n",
       "        vertical-align: top;\n",
       "    }\n",
       "\n",
       "    .dataframe thead th {\n",
       "        text-align: right;\n",
       "    }\n",
       "</style>\n",
       "<table border=\"1\" class=\"dataframe\">\n",
       "  <thead>\n",
       "    <tr style=\"text-align: right;\">\n",
       "      <th></th>\n",
       "      <th>No</th>\n",
       "      <th>type</th>\n",
       "      <th>date</th>\n",
       "      <th>time</th>\n",
       "      <th>location</th>\n",
       "      <th>city</th>\n",
       "      <th>area</th>\n",
       "    </tr>\n",
       "  </thead>\n",
       "  <tbody>\n",
       "    <tr>\n",
       "      <td>0</td>\n",
       "      <td>1</td>\n",
       "      <td>住宅竊盜</td>\n",
       "      <td>1040101</td>\n",
       "      <td>00~02</td>\n",
       "      <td>台北市文山區萬美里萬寧街1~30號</td>\n",
       "      <td>台北市</td>\n",
       "      <td>文山區</td>\n",
       "    </tr>\n",
       "    <tr>\n",
       "      <td>1</td>\n",
       "      <td>2</td>\n",
       "      <td>住宅竊盜</td>\n",
       "      <td>1040101</td>\n",
       "      <td>00~02</td>\n",
       "      <td>台北市信義區富台里忠孝東路5段295巷6弄1~30號</td>\n",
       "      <td>台北市</td>\n",
       "      <td>信義區</td>\n",
       "    </tr>\n",
       "    <tr>\n",
       "      <td>2</td>\n",
       "      <td>3</td>\n",
       "      <td>住宅竊盜</td>\n",
       "      <td>1040101</td>\n",
       "      <td>06~08</td>\n",
       "      <td>台北市中山區新生北路1段91~120號</td>\n",
       "      <td>台北市</td>\n",
       "      <td>中山區</td>\n",
       "    </tr>\n",
       "    <tr>\n",
       "      <td>3</td>\n",
       "      <td>4</td>\n",
       "      <td>住宅竊盜</td>\n",
       "      <td>1040101</td>\n",
       "      <td>10~12</td>\n",
       "      <td>台北市文山區明興里興隆路4段1~30號</td>\n",
       "      <td>台北市</td>\n",
       "      <td>文山區</td>\n",
       "    </tr>\n",
       "    <tr>\n",
       "      <td>4</td>\n",
       "      <td>5</td>\n",
       "      <td>住宅竊盜</td>\n",
       "      <td>1040101</td>\n",
       "      <td>12~14</td>\n",
       "      <td>台北縣新莊市思源路332巷1~30號</td>\n",
       "      <td>台北縣</td>\n",
       "      <td>新莊市</td>\n",
       "    </tr>\n",
       "  </tbody>\n",
       "</table>\n",
       "</div>"
      ],
      "text/plain": [
       "   No  type     date   time                    location city area\n",
       "0   1  住宅竊盜  1040101  00~02           台北市文山區萬美里萬寧街1~30號  台北市  文山區\n",
       "1   2  住宅竊盜  1040101  00~02  台北市信義區富台里忠孝東路5段295巷6弄1~30號  台北市  信義區\n",
       "2   3  住宅竊盜  1040101  06~08         台北市中山區新生北路1段91~120號  台北市  中山區\n",
       "3   4  住宅竊盜  1040101  10~12         台北市文山區明興里興隆路4段1~30號  台北市  文山區\n",
       "4   5  住宅竊盜  1040101  12~14          台北縣新莊市思源路332巷1~30號  台北縣  新莊市"
      ]
     },
     "execution_count": 4,
     "metadata": {},
     "output_type": "execute_result"
    }
   ],
   "source": [
    "residential_data['city'] = residential_data.location.str[:3]\n",
    "residential_data['area'] = residential_data.location.str[3:6]\n",
    "residential_data.head()"
   ]
  },
  {
   "cell_type": "code",
   "execution_count": 5,
   "metadata": {},
   "outputs": [
    {
     "data": {
      "text/plain": [
       "array(['三民一', '中元路', '中興路', '仁孝路', '六路里', '南投縣', '南斗路', '台中市', '台北市',\n",
       "       '台北縣', '嘉義縣', '基隆市', '宜蘭縣', '屏東縣', '建國路', '彰化縣', '新竹市', '新竹縣',\n",
       "       '東山路', '桃園縣', '澎湖縣', '自立路', '苗栗縣', '雲林縣', '高雄市', '龍肚路'],\n",
       "      dtype=object)"
      ]
     },
     "execution_count": 5,
     "metadata": {},
     "output_type": "execute_result"
    }
   ],
   "source": [
    "# Check all kinds of city \n",
    "np.unique([residential_data.city])"
   ]
  },
  {
   "cell_type": "code",
   "execution_count": 6,
   "metadata": {},
   "outputs": [
    {
     "data": {
      "text/html": [
       "<div>\n",
       "<style scoped>\n",
       "    .dataframe tbody tr th:only-of-type {\n",
       "        vertical-align: middle;\n",
       "    }\n",
       "\n",
       "    .dataframe tbody tr th {\n",
       "        vertical-align: top;\n",
       "    }\n",
       "\n",
       "    .dataframe thead th {\n",
       "        text-align: right;\n",
       "    }\n",
       "</style>\n",
       "<table border=\"1\" class=\"dataframe\">\n",
       "  <thead>\n",
       "    <tr style=\"text-align: right;\">\n",
       "      <th></th>\n",
       "      <th>No</th>\n",
       "      <th>type</th>\n",
       "      <th>date</th>\n",
       "      <th>time</th>\n",
       "      <th>location</th>\n",
       "      <th>city</th>\n",
       "      <th>area</th>\n",
       "    </tr>\n",
       "  </thead>\n",
       "  <tbody>\n",
       "    <tr>\n",
       "      <td>0</td>\n",
       "      <td>1</td>\n",
       "      <td>住宅竊盜</td>\n",
       "      <td>1040101</td>\n",
       "      <td>00~02</td>\n",
       "      <td>台北市文山區萬美里萬寧街1~30號</td>\n",
       "      <td>台北市</td>\n",
       "      <td>文山區</td>\n",
       "    </tr>\n",
       "    <tr>\n",
       "      <td>1</td>\n",
       "      <td>2</td>\n",
       "      <td>住宅竊盜</td>\n",
       "      <td>1040101</td>\n",
       "      <td>00~02</td>\n",
       "      <td>台北市信義區富台里忠孝東路5段295巷6弄1~30號</td>\n",
       "      <td>台北市</td>\n",
       "      <td>信義區</td>\n",
       "    </tr>\n",
       "    <tr>\n",
       "      <td>2</td>\n",
       "      <td>3</td>\n",
       "      <td>住宅竊盜</td>\n",
       "      <td>1040101</td>\n",
       "      <td>06~08</td>\n",
       "      <td>台北市中山區新生北路1段91~120號</td>\n",
       "      <td>台北市</td>\n",
       "      <td>中山區</td>\n",
       "    </tr>\n",
       "    <tr>\n",
       "      <td>3</td>\n",
       "      <td>4</td>\n",
       "      <td>住宅竊盜</td>\n",
       "      <td>1040101</td>\n",
       "      <td>10~12</td>\n",
       "      <td>台北市文山區明興里興隆路4段1~30號</td>\n",
       "      <td>台北市</td>\n",
       "      <td>文山區</td>\n",
       "    </tr>\n",
       "    <tr>\n",
       "      <td>5</td>\n",
       "      <td>6</td>\n",
       "      <td>住宅竊盜</td>\n",
       "      <td>1040102</td>\n",
       "      <td>00~02</td>\n",
       "      <td>台北市士林區天福里1鄰忠誠路2段130巷1~30號</td>\n",
       "      <td>台北市</td>\n",
       "      <td>士林區</td>\n",
       "    </tr>\n",
       "  </tbody>\n",
       "</table>\n",
       "</div>"
      ],
      "text/plain": [
       "   No  type     date   time                    location city area\n",
       "0   1  住宅竊盜  1040101  00~02           台北市文山區萬美里萬寧街1~30號  台北市  文山區\n",
       "1   2  住宅竊盜  1040101  00~02  台北市信義區富台里忠孝東路5段295巷6弄1~30號  台北市  信義區\n",
       "2   3  住宅竊盜  1040101  06~08         台北市中山區新生北路1段91~120號  台北市  中山區\n",
       "3   4  住宅竊盜  1040101  10~12         台北市文山區明興里興隆路4段1~30號  台北市  文山區\n",
       "5   6  住宅竊盜  1040102  00~02   台北市士林區天福里1鄰忠誠路2段130巷1~30號  台北市  士林區"
      ]
     },
     "execution_count": 6,
     "metadata": {},
     "output_type": "execute_result"
    }
   ],
   "source": [
    "# 去除台北市以外的\n",
    "filtered_data = residential_data[(residential_data.city == '台北市')]\n",
    "filtered_data.head()"
   ]
  },
  {
   "cell_type": "code",
   "execution_count": 7,
   "metadata": {},
   "outputs": [
    {
     "name": "stdout",
     "output_type": "stream",
     "text": [
      "['台北市']\n",
      "共有 2763 筆\n"
     ]
    }
   ],
   "source": [
    "# 檢查是否有遺漏\n",
    "print(np.unique([filtered_data.city]))\n",
    "print(\"共有\", len(filtered_data), \"筆\")"
   ]
  },
  {
   "cell_type": "code",
   "execution_count": 12,
   "metadata": {},
   "outputs": [
    {
     "ename": "ModuleNotFoundError",
     "evalue": "No module named 'selenium'",
     "output_type": "error",
     "traceback": [
      "\u001b[1;31m---------------------------------------------------------------------------\u001b[0m",
      "\u001b[1;31mModuleNotFoundError\u001b[0m                       Traceback (most recent call last)",
      "\u001b[1;32m<ipython-input-12-75987c91026d>\u001b[0m in \u001b[0;36m<module>\u001b[1;34m\u001b[0m\n\u001b[0;32m      1\u001b[0m \u001b[1;31m# 地址轉換成經緯度\u001b[0m\u001b[1;33m\u001b[0m\u001b[1;33m\u001b[0m\u001b[1;33m\u001b[0m\u001b[0m\n\u001b[1;32m----> 2\u001b[1;33m \u001b[1;32mfrom\u001b[0m \u001b[0mselenium\u001b[0m \u001b[1;32mimport\u001b[0m \u001b[0mwebdriver\u001b[0m\u001b[1;33m\u001b[0m\u001b[1;33m\u001b[0m\u001b[0m\n\u001b[0m\u001b[0;32m      3\u001b[0m \u001b[1;32mfrom\u001b[0m \u001b[0mselenium\u001b[0m\u001b[1;33m.\u001b[0m\u001b[0mwebdriver\u001b[0m\u001b[1;33m.\u001b[0m\u001b[0mcommon\u001b[0m\u001b[1;33m.\u001b[0m\u001b[0mkeys\u001b[0m \u001b[1;32mimport\u001b[0m \u001b[0mKeys\u001b[0m\u001b[1;33m\u001b[0m\u001b[1;33m\u001b[0m\u001b[0m\n\u001b[0;32m      4\u001b[0m \u001b[1;33m\u001b[0m\u001b[0m\n\u001b[0;32m      5\u001b[0m \u001b[0mdriver\u001b[0m \u001b[1;33m=\u001b[0m \u001b[0mwebdriver\u001b[0m\u001b[1;33m.\u001b[0m\u001b[0mChrome\u001b[0m\u001b[1;33m(\u001b[0m\u001b[1;34m'./crawler_drive/chromedriver'\u001b[0m\u001b[1;33m)\u001b[0m\u001b[1;33m\u001b[0m\u001b[1;33m\u001b[0m\u001b[0m\n",
      "\u001b[1;31mModuleNotFoundError\u001b[0m: No module named 'selenium'"
     ]
    }
   ],
   "source": [
    "# 地址轉換成經緯度\n",
    "from selenium import webdriver\n",
    "from selenium.webdriver.common.keys import Keys\n",
    "\n",
    "driver = webdriver.Chrome('./crawler_drive/chromedriver')\n",
    "url = 'https://maplocation.sjfkai.com/'\n",
    "driver.get(url)\n",
    "input_form = driver.find_element_by_id(\"locations\")\n",
    "input_form.send_keys(filtered_data.location.to_string(index=False))\n",
    "input_form.send_keys(Keys.ENTER)\n"
   ]
  },
  {
   "cell_type": "code",
   "execution_count": 9,
   "metadata": {},
   "outputs": [],
   "source": [
    "import json\n",
    "from bokeh.io import show\n",
    "from bokeh.models import (CDSView, ColorBar, ColumnDataSource,\n",
    "                          CustomJS, CustomJSFilter, \n",
    "                          GeoJSONDataSource, HoverTool,\n",
    "                          LinearColorMapper, Slider)\n",
    "from bokeh.layouts import column, row, widgetbox\n",
    "from bokeh.palettes import brewer\n",
    "from bokeh.plotting import figure\n",
    "\n",
    "# Input GeoJSON source that contains features for plotting\n",
    "geosource = GeoJSONDataSource(geojson = filtered_data.to_json())"
   ]
  },
  {
   "cell_type": "code",
   "execution_count": 10,
   "metadata": {},
   "outputs": [],
   "source": [
    "# Create figure object.\n",
    "p = figure(title = 'Lead Levels in Water Samples, 2018', \n",
    "       plot_height = 600 ,\n",
    "       plot_width = 950, \n",
    "       toolbar_location = 'below',\n",
    "       tools = \"pan, wheel_zoom, box_zoom, reset\")\n",
    "p.xgrid.grid_line_color = None\n",
    "p.ygrid.grid_line_color = None\n",
    "# Add patch renderer to figure.\n",
    "states = p.patches('xs','ys', source = geosource,\n",
    "               fill_color = None,\n",
    "               line_color = 'gray', \n",
    "               line_width = 0.25, \n",
    "               fill_alpha = 1)\n",
    "# Create hover tool\n",
    "p.add_tools(HoverTool(renderers = [states],\n",
    "                  tooltips = [('State','@NAME'),\n",
    "                            ('Population','@POPESTIMATE2018')]))\n",
    "show(p)"
   ]
  },
  {
   "cell_type": "code",
   "execution_count": null,
   "metadata": {},
   "outputs": [],
   "source": []
  },
  {
   "cell_type": "code",
   "execution_count": null,
   "metadata": {},
   "outputs": [],
   "source": []
  },
  {
   "cell_type": "code",
   "execution_count": null,
   "metadata": {},
   "outputs": [],
   "source": []
  }
 ],
 "metadata": {
  "kernelspec": {
   "display_name": "Python 3",
   "language": "python",
   "name": "python3"
  },
  "language_info": {
   "codemirror_mode": {
    "name": "ipython",
    "version": 3
   },
   "file_extension": ".py",
   "mimetype": "text/x-python",
   "name": "python",
   "nbconvert_exporter": "python",
   "pygments_lexer": "ipython3",
   "version": "3.7.4"
  }
 },
 "nbformat": 4,
 "nbformat_minor": 2
}
